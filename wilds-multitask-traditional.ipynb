{
 "cells": [
  {
   "cell_type": "code",
   "execution_count": 1,
   "id": "13cb3913",
   "metadata": {
    "id": "13cb3913"
   },
   "outputs": [],
   "source": [
    "import os\n",
    "import json\n",
    "import csv\n",
    "import numpy as np\n",
    "import pandas as pd\n",
    "\n",
    "from html import unescape\n",
    "import re\n",
    "import string\n",
    "import wordsegment as ws\n",
    "ws.load()\n",
    "import emoji\n",
    "\n",
    "from collections import Counter\n",
    "import random\n",
    "\n",
    "import matplotlib.pyplot as plt\n",
    "\n",
    "from sklearn.model_selection import train_test_split\n",
    "from sklearn.metrics import accuracy_score, roc_auc_score, roc_curve, auc, RocCurveDisplay\n",
    "from sklearn.metrics import classification_report\n",
    "from sklearn.metrics import confusion_matrix, ConfusionMatrixDisplay\n",
    "from sklearn.utils.class_weight import compute_class_weight\n",
    "from sklearn.calibration import calibration_curve, CalibrationDisplay\n",
    "\n",
    "import tensorflow as tf\n",
    "from collections import Counter"
   ]
  },
  {
   "cell_type": "code",
   "execution_count": 2,
   "id": "21d66903",
   "metadata": {
    "id": "21d66903"
   },
   "outputs": [],
   "source": [
    "# Import matplotlib\n",
    "pd.plotting.register_matplotlib_converters()\n",
    "get_ipython().run_line_magic('matplotlib', 'inline')"
   ]
  },
  {
   "cell_type": "code",
   "execution_count": 3,
   "id": "a9c0feab",
   "metadata": {
    "id": "a9c0feab",
    "outputId": "9e4a07a9-0e0d-4f15-f9a6-aeaa5259a1b7"
   },
   "outputs": [
    {
     "name": "stdout",
     "output_type": "stream",
     "text": [
      "True\n",
      "[PhysicalDevice(name='/physical_device:GPU:0', device_type='GPU')]\n"
     ]
    }
   ],
   "source": [
    "model_all_checkpoint_file = \"wilds-multitask-traditional.h5\"\n",
    "gpus = tf.config.experimental.list_physical_devices('GPU')\n",
    "print(tf.executing_eagerly())\n",
    "print(gpus) # check if gpu is recognized\n",
    "\n",
    "# Currently, memory growth needs to be the same across GPUs\n",
    "for gpu in gpus:\n",
    "    tf.config.experimental.set_memory_growth(gpus[0], True)\n",
    "    tf.config.experimental.set_virtual_device_configuration(gpus[0], [tf.config.experimental.VirtualDeviceConfiguration(memory_limit=1024)])"
   ]
  },
  {
   "cell_type": "code",
   "execution_count": 4,
   "id": "99705b01",
   "metadata": {
    "id": "99705b01",
    "outputId": "ae489bb0-fb3f-4ed1-bee0-b4cf7b7e93fe"
   },
   "outputs": [
    {
     "name": "stderr",
     "output_type": "stream",
     "text": [
      "D:\\Anaconda\\envs\\tf2\\lib\\site-packages\\tqdm\\auto.py:22: TqdmWarning: IProgress not found. Please update jupyter and ipywidgets. See https://ipywidgets.readthedocs.io/en/stable/user_install.html\n",
      "  from .autonotebook import tqdm as notebook_tqdm\n"
     ]
    }
   ],
   "source": [
    "\"\"\"\n",
    "import tensorflow libraries afer allowing gpu growth, else tensorflow crashes \n",
    "\"\"\"\n",
    "\n",
    "from tensorflow.keras import backend as K\n",
    "from tensorflow.keras import initializers\n",
    "from transformers import DistilBertTokenizerFast\n",
    "from transformers import TFDistilBertModel, DistilBertConfig"
   ]
  },
  {
   "cell_type": "code",
   "execution_count": 5,
   "id": "7d5d595c",
   "metadata": {
    "id": "7d5d595c"
   },
   "outputs": [],
   "source": [
    "\"\"\"\n",
    "Preprocessing Script\n",
    "\"\"\"\n",
    "\n",
    "# Define helper function for segmenting hashtags found through regex\n",
    "def regex_match_segmentation(match):\n",
    "    return ' '.join(ws.segment(match.group(0)))\n",
    "\n",
    "# Define function for cleaning text\n",
    "def clean_text(text):\n",
    "    \n",
    "    # convert HTML codes\n",
    "    text = unescape(text)\n",
    "    \n",
    "    # lowercase text\n",
    "    text = text.lower()\n",
    "    \n",
    "    # replace mentions, URLs and emojis with special token\n",
    "    text = re.sub(r\"@[A-Za-z0-9_-]+\",'[USER]',text)\n",
    "    text = re.sub(r\"http\\S+\",'[URL]',text)\n",
    "#     text = ''.join(' [EMOJI] ' if (char in emoji.UNICODE_EMOJI) else char for char in text).strip()\n",
    "    \n",
    "    # find and split hashtags into words\n",
    "    text = re.sub(r\"#[A-Za-z0-9]+\", regex_match_segmentation, text)\n",
    "\n",
    "    # remove punctuation at beginning of string (quirk in Davidson data)\n",
    "    text = text.lstrip(\"!\")\n",
    "    \n",
    "    # remove newline and tab characters\n",
    "    text = text.replace('\\n',' ')\n",
    "    text = text.replace('\\t',' ')\n",
    "    \n",
    "    words = text.split()\n",
    "    # hard coded 128, max word length\n",
    "    if len(words) > 128:\n",
    "        words = words[:128]\n",
    "    \n",
    "    text = ' '.join(words)\n",
    "    \n",
    "    return text"
   ]
  },
  {
   "cell_type": "code",
   "execution_count": 6,
   "id": "2cdf6603",
   "metadata": {
    "id": "2cdf6603"
   },
   "outputs": [],
   "source": [
    "\"\"\"\n",
    "Codalab link to dataset: https://worksheets.codalab.org/bundles/0x8cd3de0634154aeaad2ee6eb96723c6e\n",
    "Acquired from Pang Wei Koh's Homepage: https://koh.pw/\n",
    "\n",
    "Koh, Pang Wei, et al. \"Wilds: A benchmark of in-the-wild distribution shifts.\" \n",
    "International Conference on Machine Learning. PMLR, 2021.\n",
    "\"\"\"\n",
    "\n",
    "metadata_df = pd.read_csv('all_data_with_identities.csv', index_col=0)\n",
    "\n",
    "train_data = metadata_df.loc[metadata_df['split'] == 'train']\n",
    "test_data = metadata_df.loc[metadata_df['split'] == 'test']\n",
    "\n",
    "# pick instances where the target gender is either men or women or both\n",
    "def pick_men_women(df):\n",
    "    gen_data = df.loc[df['na_gender'] == 0]\n",
    "    \n",
    "    both_df = gen_data.loc[(gen_data['male'] > 0.5) & (gen_data['female'] > 0.5)]\n",
    "    men_df = gen_data.loc[(gen_data['male'] > 0.5) & (gen_data['female'] < 0.5)]\n",
    "    women_df = gen_data.loc[(gen_data['female'] > 0.5) & (gen_data['male'] < 0.5)]\n",
    "        \n",
    "    return both_df, men_df, women_df\n",
    "    \n",
    "    \n",
    "both_train_df, men_train_df, women_train_df = pick_men_women(train_data)\n",
    "both_test_df, men_test_df, women_test_df = pick_men_women(test_data)"
   ]
  },
  {
   "cell_type": "code",
   "execution_count": 7,
   "id": "ccfcb328",
   "metadata": {
    "id": "ccfcb328",
    "outputId": "fe454dd7-ae18-4aa2-bbaa-e07ff2a6b235"
   },
   "outputs": [],
   "source": [
    "\"\"\"\n",
    "tweets where both genders are targeted\n",
    "\"\"\"\n",
    "\n",
    "both_train = list(both_train_df['comment_text'])\n",
    "both_train = [clean_text(x) for x in both_train]\n",
    "both_train_bool = (both_train_df['toxicity'].values >= 0.5)\n",
    "\n",
    "both_train_lab = []\n",
    "# for all of the both targeted tweets\n",
    "for i in range(len(both_train)):\n",
    "    # if the tweet is toxic\n",
    "    if both_train_bool[i] == 1:\n",
    "        both_train_lab.append((1, (1,0), (1,1)))\n",
    "    else:\n",
    "        both_train_lab.append((0, (0,0), (0,1)))\n",
    "\n",
    "both_train_lab = np.asarray(both_train_lab,dtype=object)        \n",
    "\n",
    "\n",
    "both_test = list(both_test_df['comment_text'])\n",
    "both_test = [clean_text(x) for x in both_test]\n",
    "both_test_bool = (both_test_df['toxicity'].values >= 0.5)\n",
    "\n",
    "both_test_lab = []\n",
    "for i in range(len(both_test)):\n",
    "    if both_test_bool[i] == 1:\n",
    "        both_test_lab.append((1, (1,0), (1,1)))\n",
    "    else:\n",
    "        both_test_lab.append((0, (0,0), (0,1)))\n",
    "\n",
    "both_test_lab = np.asarray(both_test_lab,dtype=object)\n",
    "\n",
    "\n",
    "\"\"\"\n",
    "tweets where only men are targeted\n",
    "\"\"\"\n",
    "        \n",
    "men_train = list(men_train_df['comment_text'])\n",
    "men_train = [clean_text(x) for x in men_train]\n",
    "men_train_bool = (men_train_df['toxicity'].values >= 0.5)\n",
    "\n",
    "men_train_lab = []\n",
    "# for all of the men targeted tweets\n",
    "for i in range(len(men_train)):\n",
    "    # if the tweet is toxic\n",
    "    if men_train_bool[i] == 1:\n",
    "        men_train_lab.append((1, (1,0), (0,0)))\n",
    "    else:\n",
    "        men_train_lab.append((0, (0,0), (0,0)))\n",
    "\n",
    "men_train_lab = np.asarray(men_train_lab,dtype=object)\n",
    "\n",
    "\n",
    "men_test = list(men_test_df['comment_text'])\n",
    "men_test = [clean_text(x) for x in men_test]\n",
    "men_test_bool = (men_test_df['toxicity'].values >= 0.5)\n",
    "\n",
    "men_test_lab = []\n",
    "for i in range(len(men_test)):\n",
    "    if men_test_bool[i] == 1:\n",
    "        men_test_lab.append((1, (1,0), (0,0)))\n",
    "    else:\n",
    "        men_test_lab.append((0, (0,0), (0,0)))\n",
    "\n",
    "men_test_lab = np.asarray(men_test_lab,dtype=object)\n",
    "\n",
    "\n",
    "\"\"\"\n",
    "tweets where only women are targeted\n",
    "\"\"\"\n",
    "\n",
    "women_train = list(women_train_df['comment_text'])\n",
    "women_train = [clean_text(x) for x in women_train]\n",
    "women_train_bool = (women_train_df['toxicity'].values >= 0.5)\n",
    "\n",
    "women_train_lab = []\n",
    "for i in range(len(women_train)):\n",
    "    # if the tweet is toxic\n",
    "    if women_train_bool[i] == 1:\n",
    "        women_train_lab.append((1, (0,1), (1,1)))\n",
    "    else:\n",
    "        women_train_lab.append((0, (0,1), (0,1)))\n",
    "\n",
    "women_train_lab = np.asarray(women_train_lab,dtype=object)\n",
    "\n",
    "\n",
    "women_test = list(women_test_df['comment_text'])\n",
    "women_test = [clean_text(x) for x in women_test]\n",
    "women_test_bool = (women_test_df['toxicity'].values >= 0.5)\n",
    "\n",
    "women_test_lab = []\n",
    "for i in range(len(women_test)):\n",
    "    # if the tweet is toxic\n",
    "    if women_test_bool[i] == 1:\n",
    "        women_test_lab.append((1, (0,1), (1,1)))\n",
    "    else:\n",
    "        women_test_lab.append((0, (0,1), (0,1)))\n",
    "\n",
    "women_test_lab = np.asarray(women_test_lab,dtype=object)\n",
    "\n",
    "\n",
    "# generate final train and test batches\n",
    "train_tweets = both_train + men_train + women_train\n",
    "train_labels = np.concatenate((both_train_lab,men_train_lab,women_train_lab), axis=0)\n",
    "test_tweets = both_test + men_test + women_test\n",
    "test_labels = np.concatenate((both_test_lab,men_test_lab,women_test_lab), axis=0)"
   ]
  },
  {
   "cell_type": "code",
   "execution_count": 8,
   "id": "3746f5f0",
   "metadata": {
    "id": "3746f5f0"
   },
   "outputs": [],
   "source": [
    "\"\"\"\n",
    "Base Version of the code including Batch Encoding, Tokenization, and Model Configuration are adopted from the following link:\n",
    "https://towardsdatascience.com/hugging-face-transformers-fine-tuning-distilbert-for-binary-classification-tasks-490f1d192379\n",
    "\"\"\"\n",
    "\n",
    "def batch_encode(tokenizer, texts, batch_size=256, max_length=128): \n",
    "    input_ids = []\n",
    "    attention_mask = []\n",
    "    \n",
    "    for i in range(0, len(texts), batch_size):\n",
    "        batch = texts[i:i+batch_size]\n",
    "        inputs = tokenizer.batch_encode_plus(batch,\n",
    "                                             max_length=max_length,\n",
    "                                             padding='max_length', #implements dynamic padding\n",
    "                                             truncation=True,\n",
    "                                             return_attention_mask=True,\n",
    "                                             return_token_type_ids=False\n",
    "                                             )\n",
    "        input_ids.extend(inputs['input_ids'])\n",
    "        attention_mask.extend(inputs['attention_mask'])\n",
    "    \n",
    "    return tf.convert_to_tensor(input_ids), tf.convert_to_tensor(attention_mask)\n"
   ]
  },
  {
   "cell_type": "code",
   "execution_count": 9,
   "id": "bba54ffd",
   "metadata": {
    "id": "bba54ffd"
   },
   "outputs": [],
   "source": [
    "# Instantiate DistilBERT tokenizer...we use the Fast version to optimize runtime\n",
    "tokenizer = DistilBertTokenizerFast.from_pretrained('distilbert-base-uncased')\n",
    "\n",
    "X_train_ids, X_train_attention = batch_encode(tokenizer, train_tweets)"
   ]
  },
  {
   "cell_type": "code",
   "execution_count": 10,
   "id": "db984a2c",
   "metadata": {},
   "outputs": [],
   "source": [
    "# acquire tweet labels to compute weights for class imbalance between toxic/non-toxic\n",
    "yy_all = np.asarray([float(label[0]) for label in train_labels])\n",
    "weights_all = compute_class_weight('balanced', classes=np.unique(yy_all), y=yy_all)\n",
    "\n",
    "def cust_loss_all(y_true, y_pred):\n",
    "    # gather first entry (label) of tuple\n",
    "    intermed = tf.keras.backend.expand_dims(y_true[:,0], 1)\n",
    "    \n",
    "    # compute binary cross entropy loss between true and predicted\n",
    "    bce = tf.keras.losses.BinaryCrossentropy(from_logits=False)\n",
    "    err = bce(intermed, y_pred)\n",
    "    \n",
    "    # weight errors as per class imbalance\n",
    "    weight_vector = intermed * weights_all[1] + (1 - intermed) * weights_all[0]\n",
    "    weighted_bce = weight_vector * err\n",
    "\n",
    "    werr = tf.keras.backend.mean(weighted_bce)\n",
    "\n",
    "    return werr\n",
    "\n",
    "# acquire tweet labels targeted towards men\n",
    "yy_men = np.asarray([tuple(map(float,label[1])) for label in train_labels])\n",
    "yy_men_sub = [label[0] for label in yy_men]\n",
    "weights_men = compute_class_weight('balanced', classes=np.unique(yy_men_sub), y=yy_men_sub)\n",
    "\n",
    "def cust_loss_men(y_true, y_pred):\n",
    "    intermed = tf.keras.backend.expand_dims(y_true[:,0], 1)\n",
    "    \n",
    "    bce = tf.keras.losses.BinaryCrossentropy(from_logits=False)\n",
    "    err = bce(intermed, y_pred)\n",
    "    \n",
    "    weight_vector = intermed * weights_men[1] + (1 - intermed) * weights_men[0]\n",
    "    weighted_bce = weight_vector * err\n",
    "\n",
    "    werr = tf.keras.backend.mean(weighted_bce)\n",
    "\n",
    "    return werr\n",
    "\n",
    "# acquire tweet labels targeted towards women\n",
    "yy_women = np.asarray([tuple(map(float,label[2])) for label in train_labels])\n",
    "yy_women_sub = [label[0] for label in yy_women]\n",
    "weights_women = compute_class_weight('balanced', classes=np.unique(yy_women_sub), y=yy_women_sub)\n",
    "\n",
    "def cust_loss_women(y_true, y_pred):\n",
    "    intermed = tf.keras.backend.expand_dims(y_true[:,0], 1)\n",
    "    \n",
    "    bce = tf.keras.losses.BinaryCrossentropy(from_logits=False)\n",
    "    err = bce(intermed, y_pred)\n",
    "    \n",
    "    weight_vector = intermed * weights_women[1] + (1 - intermed) * weights_women[0]\n",
    "    weighted_bce = weight_vector * err\n",
    "\n",
    "    werr = tf.keras.backend.mean(weighted_bce)\n",
    "\n",
    "    return werr"
   ]
  },
  {
   "cell_type": "code",
   "execution_count": 11,
   "id": "758bb6dd",
   "metadata": {
    "id": "758bb6dd"
   },
   "outputs": [],
   "source": [
    "def build_model(transformer, max_length=128):\n",
    "    \n",
    "    # network weights intialization\n",
    "    weight_initializer = tf.keras.initializers.GlorotNormal() \n",
    "    \n",
    "    input_ids_layer = tf.keras.layers.Input(shape=(max_length,), \n",
    "                                            name='input_ids', \n",
    "                                            dtype='int32')\n",
    "    input_attention_layer = tf.keras.layers.Input(shape=(max_length,), \n",
    "                                                  name='input_attention', \n",
    "                                                  dtype='int32')\n",
    "    \n",
    "    last_hidden_state = transformer([input_ids_layer, input_attention_layer])[0]\n",
    "    \n",
    "    cls_token = last_hidden_state[:, 0, :]\n",
    "    \n",
    "    # shared layers\n",
    "    D1_shared = tf.keras.layers.Dropout(0.1)(cls_token)\n",
    "    \n",
    "    shared_layer = tf.keras.layers.Dense(512,\n",
    "                              activation='relu',\n",
    "                              kernel_initializer=weight_initializer,\n",
    "                              bias_initializer='zeros'\n",
    "                              )(D1_shared)\n",
    "    \n",
    "    D2_shared = tf.keras.layers.Dropout(0.1)(shared_layer)\n",
    "    \n",
    "    \n",
    "    # task 1 layers\n",
    "    task_1_first = tf.keras.layers.Dense(128,\n",
    "                              activation='relu',\n",
    "                              kernel_initializer=weight_initializer,\n",
    "                              bias_initializer='zeros'\n",
    "                              )(D2_shared)\n",
    "    \n",
    "    D_1_first = tf.keras.layers.Dropout(0.2)(task_1_first)\n",
    "    \n",
    "    task_1_second = tf.keras.layers.Dense(64,\n",
    "                              activation='relu',\n",
    "                              kernel_initializer=weight_initializer,\n",
    "                              bias_initializer='zeros'\n",
    "                              )(D_1_first)\n",
    "    \n",
    "    D_1_second = tf.keras.layers.Dropout(0.1)(task_1_second)\n",
    "    \n",
    "    output_task_1 = tf.keras.layers.Dense(1, \n",
    "                                   activation='sigmoid',\n",
    "                                   kernel_initializer=weight_initializer,  # CONSIDER USING CONSTRAINT\n",
    "                                   bias_initializer='zeros'\n",
    "                                   )(D_1_second)\n",
    "    \n",
    "    # task 2 layers\n",
    "    task_2_first = tf.keras.layers.Dense(128,\n",
    "                              activation='relu',\n",
    "                              kernel_initializer=weight_initializer,\n",
    "                              bias_initializer='zeros'\n",
    "                              )(D2_shared)\n",
    "    \n",
    "    D_2_first = tf.keras.layers.Dropout(0.1)(task_2_first)\n",
    "    \n",
    "    task_2_second = tf.keras.layers.Dense(64,\n",
    "                              activation='relu',\n",
    "                              kernel_initializer=weight_initializer,\n",
    "                              bias_initializer='zeros'\n",
    "                              )(D_2_first)\n",
    "    \n",
    "    D_2_second = tf.keras.layers.Dropout(0.1)(task_2_second)\n",
    "    \n",
    "    # Define a single node that makes up the output layer (for binary classification)\n",
    "    output_task_2 = tf.keras.layers.Dense(1, \n",
    "                                   activation='sigmoid',\n",
    "                                   kernel_initializer=weight_initializer,  # CONSIDER USING CONSTRAINT\n",
    "                                   bias_initializer='zeros'\n",
    "                                   )(D_2_second)\n",
    "    \n",
    "    # task 3 layers\n",
    "    task_3_first = tf.keras.layers.Dense(128,\n",
    "                              activation='relu',\n",
    "                              kernel_initializer=weight_initializer,\n",
    "                              bias_initializer='zeros'\n",
    "                              )(D2_shared)\n",
    "    \n",
    "    D_3_first = tf.keras.layers.Dropout(0.1)(task_3_first)\n",
    "    \n",
    "    task_3_second = tf.keras.layers.Dense(64,\n",
    "                              activation='relu',\n",
    "                              kernel_initializer=weight_initializer,\n",
    "                              bias_initializer='zeros'\n",
    "                              )(D_3_first)\n",
    "    \n",
    "    D_3_second = tf.keras.layers.Dropout(0.1)(task_3_second)\n",
    "    \n",
    "    # Define a single node that makes up the output layer (for binary classification)\n",
    "    output_task_3 = tf.keras.layers.Dense(1, \n",
    "                                   activation='sigmoid',\n",
    "                                   kernel_initializer=weight_initializer,  # CONSIDER USING CONSTRAINT\n",
    "                                   bias_initializer='zeros'\n",
    "                                   )(D_3_second)\n",
    "    \n",
    "    # Define the model\n",
    "    model = tf.keras.Model([input_ids_layer, input_attention_layer], [output_task_1, output_task_2, output_task_3])\n",
    "    \n",
    "    return model\n",
    "    "
   ]
  },
  {
   "cell_type": "code",
   "execution_count": 12,
   "id": "0ecc3038",
   "metadata": {
    "id": "0ecc3038",
    "outputId": "93e85bbf-2101-4848-925b-77e68be9febf"
   },
   "outputs": [
    {
     "name": "stderr",
     "output_type": "stream",
     "text": [
      "Some layers from the model checkpoint at distilbert-base-uncased were not used when initializing TFDistilBertModel: ['vocab_transform', 'vocab_projector', 'activation_13', 'vocab_layer_norm']\n",
      "- This IS expected if you are initializing TFDistilBertModel from the checkpoint of a model trained on another task or with another architecture (e.g. initializing a BertForSequenceClassification model from a BertForPreTraining model).\n",
      "- This IS NOT expected if you are initializing TFDistilBertModel from the checkpoint of a model that you expect to be exactly identical (initializing a BertForSequenceClassification model from a BertForSequenceClassification model).\n",
      "All the layers of TFDistilBertModel were initialized from the model checkpoint at distilbert-base-uncased.\n",
      "If your task is similar to the task the model of the checkpoint was trained on, you can already use TFDistilBertModel for predictions without further training.\n"
     ]
    }
   ],
   "source": [
    "# The bare, pretrained DistilBERT transformer model outputting raw hidden-states \n",
    "# and without any specific head on top.\n",
    "config = DistilBertConfig(dropout=0.2, \n",
    "                          attention_dropout=0.2, \n",
    "                          output_hidden_states=True)\n",
    "distilBERT = TFDistilBertModel.from_pretrained('distilbert-base-uncased', config=config)\n",
    "\n",
    "# Freeze DistilBERT layers to preserve pre-trained weights \n",
    "for layer in distilBERT.layers:\n",
    "    layer.trainable = False"
   ]
  },
  {
   "cell_type": "code",
   "execution_count": 13,
   "id": "9bfb79e5",
   "metadata": {
    "id": "9bfb79e5"
   },
   "outputs": [
    {
     "name": "stderr",
     "output_type": "stream",
     "text": [
      "D:\\Anaconda\\envs\\tf2\\lib\\site-packages\\keras\\initializers\\initializers_v2.py:120: UserWarning: The initializer GlorotNormal is unseeded and being called multiple times, which will return identical values  each time (even if the initializer is unseeded). Please update your code to provide a seed to the initializer, or avoid using the same initalizer instance more than once.\n",
      "  warnings.warn(\n"
     ]
    }
   ],
   "source": [
    "# Build model\n",
    "model_all = build_model(distilBERT)"
   ]
  },
  {
   "cell_type": "code",
   "execution_count": 14,
   "id": "77fe1fa7",
   "metadata": {
    "id": "77fe1fa7",
    "outputId": "00fddd40-93b7-4b6e-8ffa-d23429f3306b"
   },
   "outputs": [
    {
     "name": "stdout",
     "output_type": "stream",
     "text": [
      "Model: \"model\"\n",
      "__________________________________________________________________________________________________\n",
      " Layer (type)                   Output Shape         Param #     Connected to                     \n",
      "==================================================================================================\n",
      " input_ids (InputLayer)         [(None, 128)]        0           []                               \n",
      "                                                                                                  \n",
      " input_attention (InputLayer)   [(None, 128)]        0           []                               \n",
      "                                                                                                  \n",
      " tf_distil_bert_model (TFDistil  TFBaseModelOutput(l  66362880   ['input_ids[0][0]',              \n",
      " BertModel)                     ast_hidden_state=(N               'input_attention[0][0]']        \n",
      "                                one, 128, 768),                                                   \n",
      "                                 hidden_states=((No                                               \n",
      "                                ne, 128, 768),                                                    \n",
      "                                 (None, 128, 768),                                                \n",
      "                                 (None, 128, 768),                                                \n",
      "                                 (None, 128, 768),                                                \n",
      "                                 (None, 128, 768),                                                \n",
      "                                 (None, 128, 768),                                                \n",
      "                                 (None, 128, 768)),                                               \n",
      "                                 attentions=None)                                                 \n",
      "                                                                                                  \n",
      " tf.__operators__.getitem (Slic  (None, 768)         0           ['tf_distil_bert_model[0][7]']   \n",
      " ingOpLambda)                                                                                     \n",
      "                                                                                                  \n",
      " dropout_19 (Dropout)           (None, 768)          0           ['tf.__operators__.getitem[0][0]'\n",
      "                                                                 ]                                \n",
      "                                                                                                  \n",
      " dense (Dense)                  (None, 512)          393728      ['dropout_19[0][0]']             \n",
      "                                                                                                  \n",
      " dropout_20 (Dropout)           (None, 512)          0           ['dense[0][0]']                  \n",
      "                                                                                                  \n",
      " dense_1 (Dense)                (None, 128)          65664       ['dropout_20[0][0]']             \n",
      "                                                                                                  \n",
      " dense_4 (Dense)                (None, 128)          65664       ['dropout_20[0][0]']             \n",
      "                                                                                                  \n",
      " dense_7 (Dense)                (None, 128)          65664       ['dropout_20[0][0]']             \n",
      "                                                                                                  \n",
      " dropout_21 (Dropout)           (None, 128)          0           ['dense_1[0][0]']                \n",
      "                                                                                                  \n",
      " dropout_23 (Dropout)           (None, 128)          0           ['dense_4[0][0]']                \n",
      "                                                                                                  \n",
      " dropout_25 (Dropout)           (None, 128)          0           ['dense_7[0][0]']                \n",
      "                                                                                                  \n",
      " dense_2 (Dense)                (None, 64)           8256        ['dropout_21[0][0]']             \n",
      "                                                                                                  \n",
      " dense_5 (Dense)                (None, 64)           8256        ['dropout_23[0][0]']             \n",
      "                                                                                                  \n",
      " dense_8 (Dense)                (None, 64)           8256        ['dropout_25[0][0]']             \n",
      "                                                                                                  \n",
      " dropout_22 (Dropout)           (None, 64)           0           ['dense_2[0][0]']                \n",
      "                                                                                                  \n",
      " dropout_24 (Dropout)           (None, 64)           0           ['dense_5[0][0]']                \n",
      "                                                                                                  \n",
      " dropout_26 (Dropout)           (None, 64)           0           ['dense_8[0][0]']                \n",
      "                                                                                                  \n",
      " dense_3 (Dense)                (None, 1)            65          ['dropout_22[0][0]']             \n",
      "                                                                                                  \n",
      " dense_6 (Dense)                (None, 1)            65          ['dropout_24[0][0]']             \n",
      "                                                                                                  \n",
      " dense_9 (Dense)                (None, 1)            65          ['dropout_26[0][0]']             \n",
      "                                                                                                  \n",
      "==================================================================================================\n",
      "Total params: 66,978,563\n",
      "Trainable params: 615,683\n",
      "Non-trainable params: 66,362,880\n",
      "__________________________________________________________________________________________________\n"
     ]
    }
   ],
   "source": [
    "model_all.summary()"
   ]
  },
  {
   "cell_type": "code",
   "execution_count": 15,
   "id": "ff4fae07",
   "metadata": {
    "id": "ff4fae07",
    "outputId": "53b04ebd-a158-480b-c8d4-dc4bf292bbb2"
   },
   "outputs": [
    {
     "name": "stderr",
     "output_type": "stream",
     "text": [
      "D:\\Anaconda\\envs\\tf2\\lib\\site-packages\\keras\\optimizers\\optimizer_v2\\adamax.py:99: UserWarning: The `lr` argument is deprecated, use `learning_rate` instead.\n",
      "  super().__init__(name, **kwargs)\n"
     ]
    }
   ],
   "source": [
    "# Compile the model\n",
    "model_all.compile(tf.keras.optimizers.Adamax(lr=1e-4), \n",
    "                  loss=[cust_loss_all, cust_loss_men, cust_loss_women])"
   ]
  },
  {
   "cell_type": "code",
   "execution_count": 16,
   "id": "57ab3503",
   "metadata": {
    "id": "57ab3503"
   },
   "outputs": [],
   "source": [
    "model_all_checkpoint = tf.keras.callbacks.ModelCheckpoint(model_all_checkpoint_file, monitor='loss', verbose=1, save_best_only=True, mode='min')\n",
    "model_all.load_weights(model_all_checkpoint_file)"
   ]
  },
  {
   "cell_type": "code",
   "execution_count": 17,
   "id": "48763888",
   "metadata": {
    "id": "48763888",
    "outputId": "aba1da8f-ac6d-4c8c-c345-05c66640c25a"
   },
   "outputs": [
    {
     "name": "stdout",
     "output_type": "stream",
     "text": [
      "759/759 [==============================] - ETA: 0s - loss: 0.8731 - dense_3_loss: 0.3526 - dense_6_loss: 0.2471 - dense_9_loss: 0.2734\n",
      "Epoch 1: loss improved from inf to 0.87309, saving model to wilds-multitask-traditional.h5\n",
      "759/759 [==============================] - 187s 231ms/step - loss: 0.8731 - dense_3_loss: 0.3526 - dense_6_loss: 0.2471 - dense_9_loss: 0.2734\n"
     ]
    }
   ],
   "source": [
    "# Train the model\n",
    "train_history_all = model_all.fit(\n",
    "    x = [X_train_ids, X_train_attention],\n",
    "    y = [yy_all, yy_men, yy_women],\n",
    "    epochs = 1,\n",
    "    batch_size = 64, \n",
    "    steps_per_epoch = len(train_tweets) // 64,\n",
    "    verbose=True,\n",
    "    callbacks=[model_all_checkpoint]\n",
    ")"
   ]
  },
  {
   "cell_type": "code",
   "execution_count": 18,
   "id": "04aeeec6",
   "metadata": {
    "id": "04aeeec6"
   },
   "outputs": [],
   "source": [
    "# identify which tweets in test set targets which gender group\n",
    "men_indices = [i for i in range(len(test_labels)) if test_labels[i][1][1] == 0]\n",
    "women_indices = [i for i in range(len(test_labels)) if test_labels[i][2][1] == 1]\n",
    "                  \n",
    "men_te_lab = [tuple(map(float, test_labels[index][1])) for index in men_indices]\n",
    "women_te_lab = [tuple(map(float, test_labels[index][2])) for index in women_indices]"
   ]
  },
  {
   "cell_type": "code",
   "execution_count": 19,
   "id": "54259f6a",
   "metadata": {
    "id": "54259f6a"
   },
   "outputs": [],
   "source": [
    "# Encode X_test\n",
    "X_test_ids, X_test_attention = batch_encode(tokenizer, test_tweets)"
   ]
  },
  {
   "cell_type": "code",
   "execution_count": 20,
   "id": "ab55992b",
   "metadata": {
    "id": "ab55992b",
    "outputId": "7e3f21e5-8f6e-45e5-ee78-eafb4af3f07d"
   },
   "outputs": [
    {
     "name": "stdout",
     "output_type": "stream",
     "text": [
      "706/706 [==============================] - 88s 121ms/step\n"
     ]
    }
   ],
   "source": [
    "y_test_all = np.asarray([float(label[0]) for label in test_labels])\n",
    "y_test_men = np.asarray(men_te_lab)\n",
    "y_test_women = np.asarray(women_te_lab)\n",
    "\n",
    "# Generate predictions\n",
    "y_pred = model_all.predict([X_test_ids, X_test_attention])\n",
    "\n",
    "y_pred = np.squeeze(np.array(y_pred)).T\n",
    "y_pred_thresh = np.where(y_pred >= 0.5, 1, 0)"
   ]
  },
  {
   "cell_type": "code",
   "execution_count": 21,
   "id": "2e6ad452",
   "metadata": {},
   "outputs": [
    {
     "name": "stdout",
     "output_type": "stream",
     "text": [
      "****** Classification Report for ALL Branch ******\n",
      "              precision    recall  f1-score   support\n",
      "\n",
      "         0.0     0.8845    0.9634    0.9223     19236\n",
      "         1.0     0.5694    0.2779    0.3735      3350\n",
      "\n",
      "    accuracy                         0.8617     22586\n",
      "   macro avg     0.7270    0.6207    0.6479     22586\n",
      "weighted avg     0.8378    0.8617    0.8409     22586\n",
      "\n",
      "\n",
      "\n",
      "****** Classification Report for MEN Branch ******\n",
      "              precision    recall  f1-score   support\n",
      "\n",
      "         0.0     0.8637    0.9884    0.9219     10694\n",
      "         1.0     0.6702    0.1313    0.2195      1920\n",
      "\n",
      "    accuracy                         0.8579     12614\n",
      "   macro avg     0.7670    0.5598    0.5707     12614\n",
      "weighted avg     0.8343    0.8579    0.8150     12614\n",
      "\n",
      "\n",
      "\n",
      "****** Classification Report for WOMEN Branch ******\n",
      "              precision    recall  f1-score   support\n",
      "\n",
      "         0.0     0.8729    0.9916    0.9285     12964\n",
      "         1.0     0.6438    0.0953    0.1660      2068\n",
      "\n",
      "    accuracy                         0.8683     15032\n",
      "   macro avg     0.7584    0.5434    0.5472     15032\n",
      "weighted avg     0.8414    0.8683    0.8236     15032\n",
      "\n"
     ]
    }
   ],
   "source": [
    "'''\n",
    "First performs a classification report on all branch on entire test data.\n",
    "Second performs a classification report on all branch on men data.\n",
    "Third performs a classification report on all branch on women data.\n",
    "'''\n",
    "print('****** Classification Report for ALL Branch ******')\n",
    "print(classification_report(y_test_all, y_pred_thresh[:,0], zero_division=0, digits=4))\n",
    "# print(classification_report(y_test_all[men_indices], y_pred_thresh[men_indices,0], zero_division=0, digits=4))\n",
    "# print(classification_report(y_test_all[women_indices], y_pred_thresh[women_indices,0], zero_division=0, digits=4))\n",
    "\n",
    "'''\n",
    "First performs a classification report on men branch on men data.\n",
    "Second performs a classification report on women branch on women data.\n",
    "'''\n",
    "print('\\n\\n****** Classification Report for MEN Branch ******')\n",
    "print(classification_report(y_test_men[:,0], y_pred_thresh[men_indices,1], zero_division=0, digits=4))\n",
    "\n",
    "print('\\n\\n****** Classification Report for WOMEN Branch ******')\n",
    "print(classification_report(y_test_women[:,0], y_pred_thresh[women_indices,2], zero_division=0, digits=4))"
   ]
  },
  {
   "cell_type": "code",
   "execution_count": 22,
   "id": "c06c50e6",
   "metadata": {},
   "outputs": [
    {
     "data": {
      "image/png": "[encoded data removed]",
      "text/plain": [
       "<Figure size 1600x500 with 3 Axes>"
      ]
     },
     "metadata": {},
     "output_type": "display_data"
    }
   ],
   "source": [
    "# Generate Confusion Matrix for All, Men and Women branches\n",
    "\n",
    "palette = np.array([[52, 195, 235],   # black\n",
    "                    [52, 92, 235],   # red\n",
    "                    [235, 101, 52],   # green\n",
    "                    [235, 52, 52],   # blue\n",
    "                    ])  # white\n",
    "\n",
    "I = np.array([[0 , 1], [2, 3]])\n",
    "RGB = palette[I]\n",
    "\n",
    "fig0 = plt.figure(figsize=(16,5))\n",
    "ax1 = fig0.add_subplot(131)\n",
    "cm1 = confusion_matrix(y_test_all, y_pred_thresh[:,0])\n",
    "ax1.imshow(RGB)\n",
    "\n",
    "size=25\n",
    "\n",
    "for i in range(2):\n",
    "    for j in range(2):\n",
    "        c = 100 * cm1[j,i] / len(y_test_all)\n",
    "        ax1.text(i, j, f'{c:.2f}%', va='center', ha='center', color='black', fontsize=size)\n",
    "\n",
    "ax1.set_title('All Branch', fontsize=size)\n",
    "ax1.set_xticks(np.arange(0, 2), ['NT', 'T'], fontsize=size)\n",
    "ax1.set_yticks(np.arange(0, 2), ['NT', 'T'], fontsize=size)\n",
    "\n",
    "ax2 = fig0.add_subplot(132)\n",
    "cm2 = confusion_matrix(y_test_men[:,0], y_pred_thresh[men_indices,1])\n",
    "ax2.imshow(RGB)\n",
    "\n",
    "for i in range(2):\n",
    "    for j in range(2):\n",
    "        c = 100 * cm2[j,i] / len(y_test_men)\n",
    "        ax2.text(i, j, f'{c:.2f}%', va='center', ha='center', color='black', fontsize=size)\n",
    "\n",
    "ax2.set_title('Men Branch', fontsize=size)\n",
    "ax2.set_xticks(np.arange(0, 2), ['NT', 'T'], fontsize=size)\n",
    "ax2.set_yticks(np.arange(0, 2), ['NT', 'T'], fontsize=size)\n",
    "\n",
    "ax3 = fig0.add_subplot(133)\n",
    "cm3 = confusion_matrix(y_test_women[:,0], y_pred_thresh[women_indices,2])\n",
    "ax3.imshow(RGB)\n",
    "\n",
    "for i in range(2):\n",
    "    for j in range(2):\n",
    "        c = 100 * cm3[j,i] / len(y_test_women)\n",
    "        ax3.text(i, j, f'{c:.2f}%', va='center', ha='center', color='black', fontsize=size)\n",
    "\n",
    "ax3.set_title('Women Branch', fontsize=size)\n",
    "ax3.set_xticks(np.arange(0, 2), ['NT', 'T'], fontsize=size)\n",
    "ax3.set_yticks(np.arange(0, 2), ['NT', 'T'], fontsize=size)\n",
    "\n",
    "fig0.tight_layout()"
   ]
  },
  {
   "cell_type": "code",
   "execution_count": null,
   "id": "1a4be402",
   "metadata": {},
   "outputs": [],
   "source": []
  }
 ],
 "metadata": {
  "colab": {
   "provenance": []
  },
  "kernelspec": {
   "display_name": "Python 3 (ipykernel)",
   "language": "python",
   "name": "python3"
  },
  "language_info": {
   "codemirror_mode": {
    "name": "ipython",
    "version": 3
   },
   "file_extension": ".py",
   "mimetype": "text/x-python",
   "name": "python",
   "nbconvert_exporter": "python",
   "pygments_lexer": "ipython3",
   "version": "3.9.16"
  },
  "vscode": {
   "interpreter": {
    "hash": "f58430c499d482a0785a00e65820c2be54a53c5dd5b9628351836e01c5cff315"
   }
  }
 },
 "nbformat": 4,
 "nbformat_minor": 5
}
