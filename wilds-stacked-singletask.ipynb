{
 "cells": [
  {
   "cell_type": "code",
   "execution_count": 1,
   "id": "13cb3913",
   "metadata": {},
   "outputs": [],
   "source": [
    "import os\n",
    "import json\n",
    "import csv\n",
    "import numpy as np\n",
    "import pandas as pd\n",
    "\n",
    "from html import unescape\n",
    "import re\n",
    "import string\n",
    "import wordsegment as ws\n",
    "ws.load()\n",
    "import emoji\n",
    "\n",
    "from collections import Counter\n",
    "import random\n",
    "\n",
    "import matplotlib.pyplot as plt\n",
    "\n",
    "from sklearn.model_selection import train_test_split\n",
    "from sklearn.metrics import accuracy_score, roc_auc_score, roc_curve\n",
    "from sklearn.metrics import classification_report\n",
    "from sklearn.metrics import confusion_matrix, ConfusionMatrixDisplay\n",
    "from sklearn.utils.class_weight import compute_class_weight\n",
    "\n",
    "import tensorflow as tf"
   ]
  },
  {
   "cell_type": "code",
   "execution_count": 2,
   "id": "7fafe857",
   "metadata": {},
   "outputs": [],
   "source": [
    "# Import matplotlib\n",
    "pd.plotting.register_matplotlib_converters()\n",
    "get_ipython().run_line_magic('matplotlib', 'inline')"
   ]
  },
  {
   "cell_type": "code",
   "execution_count": 3,
   "id": "6494641e",
   "metadata": {},
   "outputs": [
    {
     "name": "stdout",
     "output_type": "stream",
     "text": [
      "True\n",
      "[PhysicalDevice(name='/physical_device:GPU:0', device_type='GPU')]\n"
     ]
    }
   ],
   "source": [
    "model_all_checkpoint_file = \"wilds-singletask-conditional-all.h5\"\n",
    "gpus = tf.config.experimental.list_physical_devices('GPU')\n",
    "print(tf.executing_eagerly())\n",
    "print(gpus) # check if gpu is recognized\n",
    "\n",
    "# Currently, memory growth needs to be the same across GPUs\n",
    "for gpu in gpus:\n",
    "    tf.config.experimental.set_memory_growth(gpus[0], True)\n",
    "    tf.config.experimental.set_virtual_device_configuration(gpus[0], [tf.config.experimental.VirtualDeviceConfiguration(memory_limit=1024)])"
   ]
  },
  {
   "cell_type": "code",
   "execution_count": 4,
   "id": "74f90f5b",
   "metadata": {},
   "outputs": [
    {
     "name": "stderr",
     "output_type": "stream",
     "text": [
      "D:\\Anaconda\\envs\\tf2\\lib\\site-packages\\tqdm\\auto.py:22: TqdmWarning: IProgress not found. Please update jupyter and ipywidgets. See https://ipywidgets.readthedocs.io/en/stable/user_install.html\n",
      "  from .autonotebook import tqdm as notebook_tqdm\n"
     ]
    }
   ],
   "source": [
    "\"\"\"\n",
    "import tensorflow libraries afer allowing gpu growth, else tensorflow crashes \n",
    "\"\"\"\n",
    "\n",
    "from tensorflow.keras import backend as K\n",
    "from tensorflow.keras import initializers\n",
    "from transformers import DistilBertTokenizerFast\n",
    "from transformers import TFDistilBertModel, DistilBertConfig"
   ]
  },
  {
   "cell_type": "code",
   "execution_count": 5,
   "id": "7d5d595c",
   "metadata": {},
   "outputs": [],
   "source": [
    "\"\"\"\n",
    "Preprocessing Script\n",
    "\"\"\"\n",
    "\n",
    "# Define helper function for segmenting hashtags found through regex\n",
    "def regex_match_segmentation(match):\n",
    "    return ' '.join(ws.segment(match.group(0)))\n",
    "\n",
    "# Define function for cleaning text\n",
    "def clean_text(text):\n",
    "    \n",
    "    # convert HTML codes\n",
    "    text = unescape(text)\n",
    "    \n",
    "    # lowercase text\n",
    "    text = text.lower()\n",
    "    \n",
    "    # replace mentions, URLs and emojis with special token\n",
    "    text = re.sub(r\"@[A-Za-z0-9_-]+\",'[USER]',text)\n",
    "    text = re.sub(r\"http\\S+\",'[URL]',text)\n",
    "#     text = ''.join(' [EMOJI] ' if (char in emoji.UNICODE_EMOJI) else char for char in text).strip()\n",
    "    \n",
    "    # find and split hashtags into words\n",
    "    text = re.sub(r\"#[A-Za-z0-9]+\", regex_match_segmentation, text)\n",
    "\n",
    "    # remove punctuation at beginning of string (quirk in Davidson data)\n",
    "    text = text.lstrip(\"!\")\n",
    "    \n",
    "    # remove newline and tab characters\n",
    "    text = text.replace('\\n',' ')\n",
    "    text = text.replace('\\t',' ')\n",
    "    \n",
    "    words = text.split()\n",
    "    # hard coded 128, max word length\n",
    "    if len(words) > 128:\n",
    "        words = words[:128]\n",
    "    \n",
    "    text = ' '.join(words)\n",
    "    \n",
    "    return text"
   ]
  },
  {
   "cell_type": "code",
   "execution_count": 6,
   "id": "2cdf6603",
   "metadata": {},
   "outputs": [],
   "source": [
    "\"\"\"\n",
    "Codalab link to dataset: https://worksheets.codalab.org/bundles/0x8cd3de0634154aeaad2ee6eb96723c6e\n",
    "Acquired from Pang Wei Koh's Homepage: https://koh.pw/\n",
    "\n",
    "Koh, Pang Wei, et al. \"Wilds: A benchmark of in-the-wild distribution shifts.\" \n",
    "International Conference on Machine Learning. PMLR, 2021.\n",
    "\"\"\"\n",
    "\n",
    "metadata_df = pd.read_csv('all_data_with_identities.csv', index_col=0)\n",
    "\n",
    "train_data = metadata_df.loc[metadata_df['split'] == 'train']\n",
    "test_data = metadata_df.loc[metadata_df['split'] == 'test']\n",
    "\n",
    "# pick instances where the target gender is either men or women or both\n",
    "def pick_men_women(df):\n",
    "    gen_data = df.loc[df['na_gender'] == 0]\n",
    "    \n",
    "    both_df = gen_data.loc[(gen_data['male'] > 0.5) & (gen_data['female'] > 0.5)]\n",
    "    men_df = gen_data.loc[(gen_data['male'] > 0.5) & (gen_data['female'] < 0.5)]\n",
    "    women_df = gen_data.loc[(gen_data['female'] > 0.5) & (gen_data['male'] < 0.5)]\n",
    "        \n",
    "    return both_df, men_df, women_df\n",
    "    \n",
    "    \n",
    "both_train_df, men_train_df, women_train_df = pick_men_women(train_data)\n",
    "both_test_df, men_test_df, women_test_df = pick_men_women(test_data)"
   ]
  },
  {
   "cell_type": "code",
   "execution_count": 7,
   "id": "d1698e02",
   "metadata": {},
   "outputs": [],
   "source": [
    "\"\"\"\n",
    "tweets where both genders are targeted\n",
    "\"\"\"\n",
    "\n",
    "both_train = list(both_train_df['comment_text'])\n",
    "both_train = [clean_text(x) for x in both_train]\n",
    "both_train_bool = (both_train_df['toxicity'].values >= 0.5)\n",
    "\n",
    "both_train_lab = []\n",
    "# for all of the both targeted tweets\n",
    "for i in range(len(both_train)):\n",
    "    # if the tweet is toxic\n",
    "    if both_train_bool[i] == 1:\n",
    "        both_train_lab.append((1, (1,0), (1,1)))\n",
    "    else:\n",
    "        both_train_lab.append((0, (0,0), (0,1)))\n",
    "\n",
    "both_train_lab = np.asarray(both_train_lab,dtype=object)\n",
    "\n",
    "\n",
    "both_test = list(both_test_df['comment_text'])\n",
    "both_test = [clean_text(x) for x in both_test]\n",
    "both_test_bool = (both_test_df['toxicity'].values >= 0.5)\n",
    "\n",
    "both_test_lab = []\n",
    "for i in range(len(both_test)):\n",
    "    if both_test_bool[i] == 1:\n",
    "        both_test_lab.append((1, (1,0), (1,1)))\n",
    "    else:\n",
    "        both_test_lab.append((0, (0,0), (0,1)))\n",
    "\n",
    "both_test_lab = np.asarray(both_test_lab,dtype=object)\n",
    "\n",
    "\n",
    "\"\"\"\n",
    "tweets where only men are targeted\n",
    "\"\"\"\n",
    "\n",
    "men_train = list(men_train_df['comment_text'])\n",
    "men_train = [clean_text(x) for x in men_train]\n",
    "men_train_bool = (men_train_df['toxicity'].values >= 0.5)\n",
    "\n",
    "men_train_lab = []\n",
    "# for all of the men targeted tweets\n",
    "for i in range(len(men_train)):\n",
    "    # if the tweet is toxic\n",
    "    if men_train_bool[i] == 1:\n",
    "        men_train_lab.append((1, (1,0), (0,0)))\n",
    "    else:\n",
    "        men_train_lab.append((0, (0,0), (0,0)))\n",
    "\n",
    "men_train_lab = np.asarray(men_train_lab,dtype=object)\n",
    "\n",
    "\n",
    "men_test = list(men_test_df['comment_text'])\n",
    "men_test = [clean_text(x) for x in men_test]\n",
    "men_test_bool = (men_test_df['toxicity'].values >= 0.5)\n",
    "\n",
    "men_test_lab = []\n",
    "for i in range(len(men_test)):\n",
    "    if men_test_bool[i] == 1:\n",
    "        men_test_lab.append((1, (1,0), (0,0)))\n",
    "    else:\n",
    "        men_test_lab.append((0, (0,0), (0,0)))\n",
    "\n",
    "men_test_lab = np.asarray(men_test_lab,dtype=object)\n",
    "\n",
    "\n",
    "\"\"\"\n",
    "tweets where only women are targeted\n",
    "\"\"\"\n",
    "\n",
    "women_train = list(women_train_df['comment_text'])\n",
    "women_train = [clean_text(x) for x in women_train]\n",
    "women_train_bool = (women_train_df['toxicity'].values >= 0.5)\n",
    "\n",
    "women_train_lab = []\n",
    "for i in range(len(women_train)):\n",
    "    # if the tweet is toxic\n",
    "    if women_train_bool[i] == 1:\n",
    "        women_train_lab.append((1, (0,1), (1,1)))\n",
    "    else:\n",
    "        women_train_lab.append((0, (0,1), (0,1)))\n",
    "\n",
    "women_train_lab = np.asarray(women_train_lab,dtype=object)\n",
    "\n",
    "\n",
    "women_test = list(women_test_df['comment_text'])\n",
    "women_test = [clean_text(x) for x in women_test]\n",
    "women_test_bool = (women_test_df['toxicity'].values >= 0.5)\n",
    "\n",
    "women_test_lab = []\n",
    "for i in range(len(women_test)):\n",
    "    # if the tweet is toxic\n",
    "    if women_test_bool[i] == 1:\n",
    "        women_test_lab.append((1, (0,1), (1,1)))\n",
    "    else:\n",
    "        women_test_lab.append((0, (0,1), (0,1)))\n",
    "\n",
    "women_test_lab = np.asarray(women_test_lab,dtype=object)\n",
    "\n",
    "\n",
    "# generate final train and test batches\n",
    "train_tweets = both_train + men_train + women_train\n",
    "train_labels = np.concatenate((both_train_lab,men_train_lab,women_train_lab), axis=0)\n",
    "test_tweets = both_test + men_test + women_test\n",
    "test_labels = np.concatenate((both_test_lab,men_test_lab,women_test_lab), axis=0)"
   ]
  },
  {
   "cell_type": "code",
   "execution_count": 8,
   "id": "3746f5f0",
   "metadata": {},
   "outputs": [],
   "source": [
    "\"\"\"\n",
    "Base Version of the code including Batch Encoding, Tokenization, and Model Configuration are adopted from the following link:\n",
    "https://towardsdatascience.com/hugging-face-transformers-fine-tuning-distilbert-for-binary-classification-tasks-490f1d192379\n",
    "\"\"\"\n",
    "\n",
    "def batch_encode(tokenizer, texts, batch_size=256, max_length=128): \n",
    "    input_ids = []\n",
    "    attention_mask = []\n",
    "    \n",
    "    for i in range(0, len(texts), batch_size):\n",
    "        batch = texts[i:i+batch_size]\n",
    "        inputs = tokenizer.batch_encode_plus(batch,\n",
    "                                             max_length=max_length,\n",
    "                                             padding='max_length', #implements dynamic padding\n",
    "                                             truncation=True,\n",
    "                                             return_attention_mask=True,\n",
    "                                             return_token_type_ids=False\n",
    "                                             )\n",
    "        input_ids.extend(inputs['input_ids'])\n",
    "        attention_mask.extend(inputs['attention_mask'])\n",
    "    \n",
    "    return tf.convert_to_tensor(input_ids), tf.convert_to_tensor(attention_mask)\n"
   ]
  },
  {
   "cell_type": "code",
   "execution_count": 9,
   "id": "bba54ffd",
   "metadata": {},
   "outputs": [],
   "source": [
    "# Instantiate DistilBERT tokenizer...we use the Fast version to optimize runtime\n",
    "tokenizer = DistilBertTokenizerFast.from_pretrained('distilbert-base-uncased')\n",
    "\n",
    "X_train_ids, X_train_attention = batch_encode(tokenizer, train_tweets)"
   ]
  },
  {
   "cell_type": "code",
   "execution_count": 10,
   "id": "d39f905f",
   "metadata": {},
   "outputs": [],
   "source": [
    "# acquire tweet labels to compute weights for class imbalance between toxic/non-toxic\n",
    "yy_all = np.asarray([float(label[0]) for label in train_labels])\n",
    "\n",
    "weights = compute_class_weight('balanced', classes=np.unique(yy_all), y=yy_all)\n",
    "\n",
    "def cust_loss_all(y_true, y_pred): \n",
    "    intermed = tf.keras.backend.expand_dims(y_true[:,0], 1)\n",
    "    \n",
    "    bce = tf.keras.losses.BinaryCrossentropy(from_logits=False)\n",
    "    err = bce(intermed, y_pred)\n",
    "    \n",
    "    weight_vector = intermed * weights[1] + (1 - intermed) * weights[0]\n",
    "    weighted_bce = weight_vector * err\n",
    "\n",
    "    werr = tf.keras.backend.mean(weighted_bce)\n",
    "\n",
    "    return werr"
   ]
  },
  {
   "cell_type": "code",
   "execution_count": 11,
   "id": "758bb6dd",
   "metadata": {},
   "outputs": [],
   "source": [
    "def build_model(transformer, max_length=128):\n",
    "    \n",
    "    # Define weight initializer with a random seed to ensure reproducibility\n",
    "    weight_initializer = tf.keras.initializers.GlorotNormal() \n",
    "    \n",
    "    # Define input layers\n",
    "    input_ids_layer = tf.keras.layers.Input(shape=(max_length,), \n",
    "                                            name='input_ids', \n",
    "                                            dtype='int32')\n",
    "    input_attention_layer = tf.keras.layers.Input(shape=(max_length,), \n",
    "                                                  name='input_attention', \n",
    "                                                  dtype='int32')\n",
    "    \n",
    "    # DistilBERT outputs a tuple where the first element at index 0\n",
    "    # represents the hidden-state at the output of the model's last layer.\n",
    "    # It is a tf.Tensor of shape (batch_size, sequence_length, hidden_size=768).\n",
    "    last_hidden_state = transformer([input_ids_layer, input_attention_layer])[0]\n",
    "    \n",
    "    # We only care about DistilBERT's output for the [CLS] token, which is located\n",
    "    # at index 0.  Splicing out the [CLS] tokens gives us 2D data.\n",
    "    cls_token = last_hidden_state[:, 0, :]\n",
    "    \n",
    "    D1 = tf.keras.layers.Dropout(0.1)(cls_token)\n",
    "    \n",
    "    X = tf.keras.layers.Dense(512,\n",
    "                              activation='relu',\n",
    "                              kernel_initializer=weight_initializer,\n",
    "                              bias_initializer='zeros'\n",
    "                              )(D1)\n",
    "    \n",
    "    D2 = tf.keras.layers.Dropout(0.1)(X)\n",
    "    \n",
    "    X = tf.keras.layers.Dense(128,\n",
    "                              activation='relu',\n",
    "                              kernel_initializer=weight_initializer,\n",
    "                              bias_initializer='zeros'\n",
    "                              )(D2)\n",
    "    \n",
    "    D3 = tf.keras.layers.Dropout(0.1)(X)\n",
    "    \n",
    "    X = tf.keras.layers.Dense(64,\n",
    "                              activation='relu',\n",
    "                              kernel_initializer=weight_initializer,\n",
    "                              bias_initializer='zeros'\n",
    "                              )(D3)\n",
    "    \n",
    "    D4 = tf.keras.layers.Dropout(0.1)(X)\n",
    "    \n",
    "    # Define a single node that makes up the output layer (for binary classification)\n",
    "    output = tf.keras.layers.Dense(1, \n",
    "                                   activation='sigmoid',\n",
    "                                   kernel_initializer=weight_initializer,  # CONSIDER USING CONSTRAINT\n",
    "                                   bias_initializer='zeros'\n",
    "                                   )(D4)\n",
    "    \n",
    "    # Define the model\n",
    "    model = tf.keras.Model([input_ids_layer, input_attention_layer], output)\n",
    "    \n",
    "    return model\n",
    "    "
   ]
  },
  {
   "cell_type": "code",
   "execution_count": 12,
   "id": "0ecc3038",
   "metadata": {},
   "outputs": [
    {
     "name": "stderr",
     "output_type": "stream",
     "text": [
      "Some layers from the model checkpoint at distilbert-base-uncased were not used when initializing TFDistilBertModel: ['vocab_layer_norm', 'activation_13', 'vocab_projector', 'vocab_transform']\n",
      "- This IS expected if you are initializing TFDistilBertModel from the checkpoint of a model trained on another task or with another architecture (e.g. initializing a BertForSequenceClassification model from a BertForPreTraining model).\n",
      "- This IS NOT expected if you are initializing TFDistilBertModel from the checkpoint of a model that you expect to be exactly identical (initializing a BertForSequenceClassification model from a BertForSequenceClassification model).\n",
      "All the layers of TFDistilBertModel were initialized from the model checkpoint at distilbert-base-uncased.\n",
      "If your task is similar to the task the model of the checkpoint was trained on, you can already use TFDistilBertModel for predictions without further training.\n"
     ]
    }
   ],
   "source": [
    "# The bare, pretrained DistilBERT transformer model outputting raw hidden-states \n",
    "# and without any specific head on top.\n",
    "config = DistilBertConfig(dropout=0.2, \n",
    "                          attention_dropout=0.2, \n",
    "                          output_hidden_states=True)\n",
    "distilBERT = TFDistilBertModel.from_pretrained('distilbert-base-uncased', config=config)\n",
    "\n",
    "# Freeze DistilBERT layers to preserve pre-trained weights \n",
    "for layer in distilBERT.layers:\n",
    "    layer.trainable = False"
   ]
  },
  {
   "cell_type": "code",
   "execution_count": 13,
   "id": "4af236e3",
   "metadata": {},
   "outputs": [
    {
     "name": "stderr",
     "output_type": "stream",
     "text": [
      "D:\\Anaconda\\envs\\tf2\\lib\\site-packages\\keras\\initializers\\initializers_v2.py:120: UserWarning: The initializer GlorotNormal is unseeded and being called multiple times, which will return identical values  each time (even if the initializer is unseeded). Please update your code to provide a seed to the initializer, or avoid using the same initalizer instance more than once.\n",
      "  warnings.warn(\n"
     ]
    }
   ],
   "source": [
    "# Build model\n",
    "model_all = build_model(distilBERT)"
   ]
  },
  {
   "cell_type": "code",
   "execution_count": 14,
   "id": "48bc8444",
   "metadata": {},
   "outputs": [],
   "source": [
    "# model_all.summary()"
   ]
  },
  {
   "cell_type": "code",
   "execution_count": 15,
   "id": "7cf8b73f",
   "metadata": {},
   "outputs": [
    {
     "name": "stderr",
     "output_type": "stream",
     "text": [
      "D:\\Anaconda\\envs\\tf2\\lib\\site-packages\\keras\\optimizers\\optimizer_v2\\adamax.py:99: UserWarning: The `lr` argument is deprecated, use `learning_rate` instead.\n",
      "  super().__init__(name, **kwargs)\n"
     ]
    }
   ],
   "source": [
    "# Compile the model\n",
    "model_all.compile(tf.keras.optimizers.Adamax(lr=1e-4), loss=cust_loss_all)"
   ]
  },
  {
   "cell_type": "code",
   "execution_count": 16,
   "id": "3c8e2cdf",
   "metadata": {},
   "outputs": [],
   "source": [
    "model_all_checkpoint = tf.keras.callbacks.ModelCheckpoint(model_all_checkpoint_file, monitor='loss', verbose=1, save_best_only=True, mode='min')\n",
    "# model_all.load_weights(model_all_checkpoint_file)"
   ]
  },
  {
   "cell_type": "code",
   "execution_count": 17,
   "id": "48763888",
   "metadata": {},
   "outputs": [
    {
     "name": "stdout",
     "output_type": "stream",
     "text": [
      "759/759 [==============================] - ETA: 0s - loss: 0.3591\n",
      "Epoch 1: loss improved from inf to 0.35912, saving model to wilds-singletask-conditional-all.h5\n",
      "759/759 [==============================] - 191s 236ms/step - loss: 0.3591\n"
     ]
    }
   ],
   "source": [
    "# Train the model\n",
    "train_history_all = model_all.fit(\n",
    "    x = [X_train_ids, X_train_attention],\n",
    "    y = np.array(yy_all),\n",
    "    epochs = 1,\n",
    "    batch_size = 64, \n",
    "    steps_per_epoch = len(train_tweets) // 64,\n",
    "    verbose=True,\n",
    "    callbacks=[model_all_checkpoint]\n",
    ")"
   ]
  },
  {
   "cell_type": "code",
   "execution_count": 18,
   "id": "4a85af36",
   "metadata": {},
   "outputs": [],
   "source": [
    "# identify which tweets in test set targets which gender group\n",
    "men_indices = [i for i in range(len(test_labels)) if test_labels[i][1][1] == 0]\n",
    "women_indices = [i for i in range(len(test_labels)) if test_labels[i][2][1] == 1]\n",
    "                  \n",
    "men_te_lab = [tuple(map(float, test_labels[index][1])) for index in men_indices]\n",
    "women_te_lab = [tuple(map(float, test_labels[index][2])) for index in women_indices]"
   ]
  },
  {
   "cell_type": "code",
   "execution_count": 19,
   "id": "c0ada0eb",
   "metadata": {},
   "outputs": [],
   "source": [
    "# Encode X_test\n",
    "X_test_ids, X_test_attention = batch_encode(tokenizer, test_tweets)"
   ]
  },
  {
   "cell_type": "code",
   "execution_count": 20,
   "id": "e9f28109",
   "metadata": {},
   "outputs": [
    {
     "name": "stdout",
     "output_type": "stream",
     "text": [
      "706/706 [==============================] - 93s 128ms/step\n",
      "              precision    recall  f1-score   support\n",
      "\n",
      "         0.0       0.88      0.97      0.92     19236\n",
      "         1.0       0.55      0.24      0.34      3350\n",
      "\n",
      "    accuracy                           0.86     22586\n",
      "   macro avg       0.72      0.60      0.63     22586\n",
      "weighted avg       0.83      0.86      0.83     22586\n",
      "\n"
     ]
    },
    {
     "data": {
      "text/plain": [
       "[<matplotlib.axis.YTick at 0x263fc1bd100>,\n",
       " <matplotlib.axis.YTick at 0x263fc1a6a60>]"
      ]
     },
     "execution_count": 20,
     "metadata": {},
     "output_type": "execute_result"
    },
    {
     "data": {
      "image/png": "[encoded data removed]",
      "text/plain": [
       "<Figure size 400x500 with 1 Axes>"
      ]
     },
     "metadata": {},
     "output_type": "display_data"
    }
   ],
   "source": [
    "y_test = np.asarray([float(label[0]) for label in test_labels])\n",
    "\n",
    "# Generate predictions\n",
    "y_pred = model_all.predict([X_test_ids, X_test_attention])\n",
    "y_pred = np.squeeze(np.array(y_pred)).T\n",
    "y_pred_thresh = np.where(y_pred >= 0.5, 1, 0)\n",
    "\n",
    "'''\n",
    "First performs a classification report on model_all on all test data.\n",
    "Second performs a classification report on model_all on men data.\n",
    "Third performs a classification report on model_all on black women data.\n",
    "'''\n",
    "print(classification_report(y_test, y_pred_thresh, zero_division=0))\n",
    "# print(classification_report(y_test[men_indices], y_pred_thresh[men_indices], zero_division=0))\n",
    "# print(classification_report(y_test[women_indices], y_pred_thresh[women_indices], zero_division=0))\n",
    "\n",
    "palette = np.array([[52, 195, 235],   # black\n",
    "                    [52, 92, 235],   # red\n",
    "                    [235, 101, 52],   # green\n",
    "                    [235, 52, 52],   # blue\n",
    "                    ])  # white\n",
    "\n",
    "I = np.array([[0 , 1], [2, 3]])\n",
    "RGB = palette[I]\n",
    "\n",
    "fig0 = plt.figure(figsize=(4,5))\n",
    "ax1 = fig0.add_subplot(111)\n",
    "cm1 = confusion_matrix(y_test, y_pred_thresh)\n",
    "ax1.imshow(RGB)\n",
    "\n",
    "size=15\n",
    "\n",
    "for i in range(2):\n",
    "    for j in range(2):\n",
    "        c = 100 * cm1[j,i] / len(y_test)\n",
    "        ax1.text(i, j, f'{c:.2f}%', va='center', ha='center', color='black', fontsize=size)\n",
    "\n",
    "ax1.set_title('All Branch', fontsize=size)\n",
    "ax1.set_xticks(np.arange(0, 2), ['NT', 'T'], fontsize=size)\n",
    "ax1.set_yticks(np.arange(0, 2), ['NT', 'T'], fontsize=size)"
   ]
  },
  {
   "cell_type": "markdown",
   "id": "969d7d91",
   "metadata": {},
   "source": [
    "## MEN MODEL"
   ]
  },
  {
   "cell_type": "code",
   "execution_count": 21,
   "id": "67d47218",
   "metadata": {},
   "outputs": [
    {
     "name": "stderr",
     "output_type": "stream",
     "text": [
      "D:\\Anaconda\\envs\\tf2\\lib\\site-packages\\keras\\initializers\\initializers_v2.py:120: UserWarning: The initializer GlorotNormal is unseeded and being called multiple times, which will return identical values  each time (even if the initializer is unseeded). Please update your code to provide a seed to the initializer, or avoid using the same initalizer instance more than once.\n",
      "  warnings.warn(\n"
     ]
    }
   ],
   "source": [
    "model_men_checkpoint_file = \"wilds-singletask-conditional-men.h5\"\n",
    "model_men = build_model(distilBERT)"
   ]
  },
  {
   "cell_type": "code",
   "execution_count": 22,
   "id": "f01bee43",
   "metadata": {},
   "outputs": [],
   "source": [
    "men_indices_tr = [i for i in range(len(train_labels)) if train_labels[i][1][1] == 0]\n",
    "men_tr_lab = [tuple(map(float, train_labels[index][1])) for index in men_indices_tr]\n",
    "\n",
    "men_tweets = [train_tweets[index] for index in men_indices_tr]\n",
    "X_train_ids, X_train_attention = batch_encode(tokenizer, men_tweets)"
   ]
  },
  {
   "cell_type": "code",
   "execution_count": 23,
   "id": "8d334cf1",
   "metadata": {},
   "outputs": [],
   "source": [
    "labels_men = [label[0] for label in men_tr_lab]\n",
    "men_weights = compute_class_weight('balanced', classes=np.unique(labels_men), y=labels_men)\n",
    "\n",
    "def cust_loss_men(y_true, y_pred): \n",
    "    intermed = tf.keras.backend.expand_dims(y_true[:,0], 1)\n",
    "    \n",
    "    bce = tf.keras.losses.BinaryCrossentropy(from_logits=False)\n",
    "    err = bce(intermed, y_pred)\n",
    "    \n",
    "    weight_vector = intermed * men_weights[1] + (1 - intermed) * men_weights[0]\n",
    "    weighted_bce = weight_vector * err\n",
    "\n",
    "    werr = tf.keras.backend.mean(weighted_bce)\n",
    "\n",
    "    return werr"
   ]
  },
  {
   "cell_type": "code",
   "execution_count": 24,
   "id": "811a9cb4",
   "metadata": {},
   "outputs": [
    {
     "name": "stderr",
     "output_type": "stream",
     "text": [
      "D:\\Anaconda\\envs\\tf2\\lib\\site-packages\\keras\\optimizers\\optimizer_v2\\adamax.py:99: UserWarning: The `lr` argument is deprecated, use `learning_rate` instead.\n",
      "  super().__init__(name, **kwargs)\n"
     ]
    }
   ],
   "source": [
    "model_men.compile(tf.keras.optimizers.Adamax(lr=1e-4), loss=cust_loss_men)"
   ]
  },
  {
   "cell_type": "code",
   "execution_count": 25,
   "id": "28ad3726",
   "metadata": {},
   "outputs": [],
   "source": [
    "model_men_checkpoint = tf.keras.callbacks.ModelCheckpoint(model_men_checkpoint_file, monitor='loss', verbose=1, save_best_only=True, mode='min')\n",
    "# model_men.load_weights(model_men_checkpoint_file)"
   ]
  },
  {
   "cell_type": "code",
   "execution_count": 26,
   "id": "0108faf6",
   "metadata": {},
   "outputs": [
    {
     "name": "stdout",
     "output_type": "stream",
     "text": [
      "413/413 [==============================] - ETA: 0s - loss: 0.3702\n",
      "Epoch 1: loss improved from inf to 0.37019, saving model to wilds-singletask-conditional-men.h5\n",
      "413/413 [==============================] - 114s 238ms/step - loss: 0.3702\n"
     ]
    }
   ],
   "source": [
    "# Train the model\n",
    "train_history_men = model_men.fit(\n",
    "    x = [X_train_ids, X_train_attention],\n",
    "    y = np.array(labels_men),\n",
    "    epochs = 1,\n",
    "    batch_size = 64, \n",
    "    steps_per_epoch = len(men_tr_lab) // 64,\n",
    "    verbose=True,\n",
    "    callbacks=[model_men_checkpoint]\n",
    ")"
   ]
  },
  {
   "cell_type": "code",
   "execution_count": 27,
   "id": "292cb517",
   "metadata": {},
   "outputs": [
    {
     "name": "stdout",
     "output_type": "stream",
     "text": [
      "706/706 [==============================] - 93s 127ms/step\n",
      "              precision    recall  f1-score   support\n",
      "\n",
      "         0.0       0.87      0.97      0.92     10694\n",
      "         1.0       0.57      0.21      0.31      1920\n",
      "\n",
      "    accuracy                           0.86     12614\n",
      "   macro avg       0.72      0.59      0.61     12614\n",
      "weighted avg       0.83      0.86      0.83     12614\n",
      "\n"
     ]
    },
    {
     "data": {
      "text/plain": [
       "[<matplotlib.axis.YTick at 0x26327a68250>,\n",
       " <matplotlib.axis.YTick at 0x26327a5fcd0>]"
      ]
     },
     "execution_count": 27,
     "metadata": {},
     "output_type": "execute_result"
    },
    {
     "data": {
      "image/png": "[encoded data removed]",
      "text/plain": [
       "<Figure size 400x500 with 1 Axes>"
      ]
     },
     "metadata": {},
     "output_type": "display_data"
    }
   ],
   "source": [
    "# Encode X_test\n",
    "y_test_men = np.asarray(men_te_lab)\n",
    "\n",
    "# Generate predictions\n",
    "y_pred = model_men.predict([X_test_ids, X_test_attention])\n",
    "y_pred = np.squeeze(np.array(y_pred)).T\n",
    "y_pred_thresh = np.where(y_pred >= 0.5, 1, 0)\n",
    "\n",
    "'''\n",
    "Performs a classification report on men model on men data.\n",
    "'''\n",
    "print(classification_report(y_test_men[:,0], y_pred_thresh[men_indices], zero_division=0))\n",
    "\n",
    "palette = np.array([[52, 195, 235],   # black\n",
    "                    [52, 92, 235],   # red\n",
    "                    [235, 101, 52],   # green\n",
    "                    [235, 52, 52],   # blue\n",
    "                    ])  # white\n",
    "\n",
    "I = np.array([[0 , 1], [2, 3]])\n",
    "RGB = palette[I]\n",
    "\n",
    "fig0 = plt.figure(figsize=(4,5))\n",
    "ax1 = fig0.add_subplot(111)\n",
    "cm1 = confusion_matrix(y_test_men[:,0], y_pred_thresh[men_indices])\n",
    "ax1.imshow(RGB)\n",
    "\n",
    "size=15\n",
    "\n",
    "for i in range(2):\n",
    "    for j in range(2):\n",
    "        c = 100 * cm1[j,i] / len(y_test_men)\n",
    "        ax1.text(i, j, f'{c:.2f}%', va='center', ha='center', color='black', fontsize=size)\n",
    "\n",
    "ax1.set_title('Men Branch', fontsize=size)\n",
    "ax1.set_xticks(np.arange(0, 2), ['NT', 'T'], fontsize=size)\n",
    "ax1.set_yticks(np.arange(0, 2), ['NT', 'T'], fontsize=size)"
   ]
  },
  {
   "cell_type": "markdown",
   "id": "c79e6ff2",
   "metadata": {},
   "source": [
    "## WOMEN MODEL"
   ]
  },
  {
   "cell_type": "code",
   "execution_count": 28,
   "id": "3b2d7809",
   "metadata": {},
   "outputs": [
    {
     "name": "stderr",
     "output_type": "stream",
     "text": [
      "D:\\Anaconda\\envs\\tf2\\lib\\site-packages\\keras\\initializers\\initializers_v2.py:120: UserWarning: The initializer GlorotNormal is unseeded and being called multiple times, which will return identical values  each time (even if the initializer is unseeded). Please update your code to provide a seed to the initializer, or avoid using the same initalizer instance more than once.\n",
      "  warnings.warn(\n"
     ]
    }
   ],
   "source": [
    "model_women_checkpoint_file = \"wilds-singletask-conditional-women.h5\"\n",
    "model_women = build_model(distilBERT)"
   ]
  },
  {
   "cell_type": "code",
   "execution_count": 29,
   "id": "4afa7ea7",
   "metadata": {},
   "outputs": [],
   "source": [
    "women_indices_tr = [i for i in range(len(train_labels)) if train_labels[i][2][1] == 1]\n",
    "women_tr_lab = [tuple(map(float, train_labels[index][2])) for index in women_indices_tr]\n",
    "\n",
    "women_tweets = [train_tweets[index] for index in women_indices_tr]\n",
    "X_train_ids, X_train_attention = batch_encode(tokenizer, women_tweets)"
   ]
  },
  {
   "cell_type": "code",
   "execution_count": 30,
   "id": "4a929f5f",
   "metadata": {},
   "outputs": [],
   "source": [
    "labels_women = [label[0] for label in women_tr_lab]\n",
    "women_weights = compute_class_weight('balanced', classes=np.unique(labels_women), y=labels_women)\n",
    "\n",
    "def cust_loss_women(y_true, y_pred): \n",
    "    intermed = tf.keras.backend.expand_dims(y_true[:,0], 1)\n",
    "    \n",
    "    bce = tf.keras.losses.BinaryCrossentropy(from_logits=False)\n",
    "    err = bce(intermed, y_pred)\n",
    "    \n",
    "    weight_vector = intermed * women_weights[1] + (1 - intermed) * women_weights[0]\n",
    "    weighted_bce = weight_vector * err\n",
    "\n",
    "    werr = tf.keras.backend.mean(weighted_bce)\n",
    "\n",
    "    return werr"
   ]
  },
  {
   "cell_type": "code",
   "execution_count": 31,
   "id": "9f9f2b11",
   "metadata": {},
   "outputs": [
    {
     "name": "stderr",
     "output_type": "stream",
     "text": [
      "D:\\Anaconda\\envs\\tf2\\lib\\site-packages\\keras\\optimizers\\optimizer_v2\\adamax.py:99: UserWarning: The `lr` argument is deprecated, use `learning_rate` instead.\n",
      "  super().__init__(name, **kwargs)\n"
     ]
    }
   ],
   "source": [
    "model_women.compile(tf.keras.optimizers.Adamax(lr=1e-4), loss=cust_loss_women)"
   ]
  },
  {
   "cell_type": "code",
   "execution_count": 32,
   "id": "c1265b68",
   "metadata": {},
   "outputs": [],
   "source": [
    "model_women_checkpoint = tf.keras.callbacks.ModelCheckpoint(model_women_checkpoint_file, monitor='loss', verbose=1, save_best_only=True, mode='min')\n",
    "# model_women.load_weights(model_women_checkpoint_file)"
   ]
  },
  {
   "cell_type": "code",
   "execution_count": 33,
   "id": "a05a95bc",
   "metadata": {},
   "outputs": [
    {
     "name": "stdout",
     "output_type": "stream",
     "text": [
      "520/520 [==============================] - ETA: 0s - loss: 0.3438\n",
      "Epoch 1: loss improved from inf to 0.34375, saving model to wilds-singletask-conditional-women.h5\n",
      "520/520 [==============================] - 133s 233ms/step - loss: 0.3438\n"
     ]
    }
   ],
   "source": [
    "# Train the model\n",
    "train_history_women = model_women.fit(\n",
    "    x = [X_train_ids, X_train_attention],\n",
    "    y = np.array([label[0] for label in women_tr_lab]),\n",
    "    epochs = 1,\n",
    "    batch_size = 64, \n",
    "    steps_per_epoch = len(women_tr_lab) // 64,\n",
    "    verbose=True,\n",
    "    callbacks=[model_women_checkpoint]\n",
    ")"
   ]
  },
  {
   "cell_type": "code",
   "execution_count": 34,
   "id": "d5ed47b2",
   "metadata": {},
   "outputs": [
    {
     "name": "stdout",
     "output_type": "stream",
     "text": [
      "706/706 [==============================] - 91s 124ms/step\n",
      "              precision    recall  f1-score   support\n",
      "\n",
      "         0.0       0.88      0.98      0.93     12964\n",
      "         1.0       0.58      0.18      0.28      2068\n",
      "\n",
      "    accuracy                           0.87     15032\n",
      "   macro avg       0.73      0.58      0.60     15032\n",
      "weighted avg       0.84      0.87      0.84     15032\n",
      "\n"
     ]
    },
    {
     "data": {
      "text/plain": [
       "[<matplotlib.axis.YTick at 0x2632d90d7c0>,\n",
       " <matplotlib.axis.YTick at 0x2632d90d280>]"
      ]
     },
     "execution_count": 34,
     "metadata": {},
     "output_type": "execute_result"
    },
    {
     "data": {
      "image/png": "[encoded data removed]",
      "text/plain": [
       "<Figure size 400x500 with 1 Axes>"
      ]
     },
     "metadata": {},
     "output_type": "display_data"
    }
   ],
   "source": [
    "# Encode X_test\n",
    "y_test_women = np.asarray(women_te_lab)\n",
    "\n",
    "# Generate predictions\n",
    "y_pred = model_women.predict([X_test_ids, X_test_attention])\n",
    "y_pred = np.squeeze(np.array(y_pred)).T\n",
    "y_pred_thresh = np.where(y_pred >= 0.5, 1, 0)\n",
    "\n",
    "'''\n",
    "Performs a classification report on women model on women data.\n",
    "'''\n",
    "print(classification_report(y_test_women[:,0], y_pred_thresh[women_indices], zero_division=0))\n",
    "\n",
    "palette = np.array([[52, 195, 235],   # black\n",
    "                    [52, 92, 235],   # red\n",
    "                    [235, 101, 52],   # green\n",
    "                    [235, 52, 52],   # blue\n",
    "                    ])  # white\n",
    "\n",
    "I = np.array([[0 , 1], [2, 3]])\n",
    "RGB = palette[I]\n",
    "\n",
    "fig0 = plt.figure(figsize=(4,5))\n",
    "ax1 = fig0.add_subplot(111)\n",
    "cm1 = confusion_matrix(y_test_women[:,0], y_pred_thresh[women_indices])\n",
    "ax1.imshow(RGB)\n",
    "\n",
    "size=15\n",
    "\n",
    "for i in range(2):\n",
    "    for j in range(2):\n",
    "        c = 100 * cm1[j,i] / len(y_test_women)\n",
    "        ax1.text(i, j, f'{c:.2f}%', va='center', ha='center', color='black', fontsize=size)\n",
    "\n",
    "ax1.set_title('Women Branch', fontsize=size)\n",
    "ax1.set_xticks(np.arange(0, 2), ['NT', 'T'], fontsize=size)\n",
    "ax1.set_yticks(np.arange(0, 2), ['NT', 'T'], fontsize=size)"
   ]
  },
  {
   "cell_type": "code",
   "execution_count": null,
   "id": "97e0040c",
   "metadata": {},
   "outputs": [],
   "source": []
  }
 ],
 "metadata": {
  "kernelspec": {
   "display_name": "Python 3 (ipykernel)",
   "language": "python",
   "name": "python3"
  },
  "language_info": {
   "codemirror_mode": {
    "name": "ipython",
    "version": 3
   },
   "file_extension": ".py",
   "mimetype": "text/x-python",
   "name": "python",
   "nbconvert_exporter": "python",
   "pygments_lexer": "ipython3",
   "version": "3.9.16"
  },
  "vscode": {
   "interpreter": {
    "hash": "f58430c499d482a0785a00e65820c2be54a53c5dd5b9628351836e01c5cff315"
   }
  }
 },
 "nbformat": 4,
 "nbformat_minor": 5
}
